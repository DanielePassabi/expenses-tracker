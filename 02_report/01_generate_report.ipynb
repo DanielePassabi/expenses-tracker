{
 "cells": [
  {
   "attachments": {},
   "cell_type": "markdown",
   "metadata": {},
   "source": [
    "# **Expenses Tracker**\n",
    "\n",
    "## **Report**\n",
    "\n",
    "We generate a report for each available year."
   ]
  },
  {
   "attachments": {},
   "cell_type": "markdown",
   "metadata": {},
   "source": [
    "### **Libraries**"
   ]
  },
  {
   "cell_type": "code",
   "execution_count": null,
   "metadata": {},
   "outputs": [],
   "source": [
    "import os\n",
    "import sys\n",
    "import numpy as np\n",
    "import pandas as pd\n",
    "import plotly.express as px\n",
    "import plotly.graph_objects as go\n",
    "\n",
    "sys.path.append('..')\n",
    "from utils.report import ReportGenerator\n",
    "\n",
    "print('Libraries Imported')"
   ]
  },
  {
   "cell_type": "markdown",
   "metadata": {},
   "source": [
    "### **Setup**\n",
    "\n",
    "Setup the settings for the run below."
   ]
  },
  {
   "cell_type": "code",
   "execution_count": null,
   "metadata": {},
   "outputs": [],
   "source": [
    "datasets_path = os.path.join('..','data','preprocessed')\n",
    "reports_save_path = os.path.join('..','reports')\n",
    "\n",
    "# For dummy run\n",
    "# datasets_path = os.path.join('..','data','dummy')\n",
    "# reports_save_path = os.path.join('..','reports','dummy')\n",
    "\n",
    "# just for the categories that you want to set manually\n",
    "# the other categories will have a (consistent) random colors\n",
    "custom_category_color_dict = {\n",
    "    'Supporto Famiglia':    '#7a9bcc',\n",
    "    'Stipendio':            '#8acc7a',\n",
    "    'Risparmi':             '#ccbb7a',\n",
    "    'Investimenti':         '#9b7acc',\n",
    "}"
   ]
  },
  {
   "cell_type": "markdown",
   "metadata": {},
   "source": [
    "### **ReportGenerator**\n",
    "\n",
    "Setup a report generator."
   ]
  },
  {
   "cell_type": "code",
   "execution_count": null,
   "metadata": {},
   "outputs": [],
   "source": [
    "REPORT_GENERATOR = ReportGenerator(\n",
    "    datasets_path=datasets_path,\n",
    "    save_path=reports_save_path,\n",
    "    category_color_dict=custom_category_color_dict\n",
    "    )"
   ]
  },
  {
   "attachments": {},
   "cell_type": "markdown",
   "metadata": {},
   "source": [
    "The generator contains all the dataset provided in `dataset_path`."
   ]
  },
  {
   "cell_type": "code",
   "execution_count": null,
   "metadata": {},
   "outputs": [],
   "source": [
    "REPORT_GENERATOR.datasets['2023'].head(3)"
   ]
  },
  {
   "cell_type": "markdown",
   "metadata": {},
   "source": [
    "Now we just have to generate the reports."
   ]
  },
  {
   "cell_type": "code",
   "execution_count": null,
   "metadata": {},
   "outputs": [],
   "source": [
    "REPORT_GENERATOR.generate_reports(\n",
    "    show_plots=False\n",
    "    )"
   ]
  },
  {
   "attachments": {},
   "cell_type": "markdown",
   "metadata": {},
   "source": [
    "---\n",
    "\n",
    "### **DEBUG**\n",
    "\n",
    "Please debug below."
   ]
  },
  {
   "cell_type": "code",
   "execution_count": null,
   "metadata": {},
   "outputs": [],
   "source": []
  }
 ],
 "metadata": {
  "kernelspec": {
   "display_name": "HPA_PY10",
   "language": "python",
   "name": "python3"
  },
  "language_info": {
   "codemirror_mode": {
    "name": "ipython",
    "version": 3
   },
   "file_extension": ".py",
   "mimetype": "text/x-python",
   "name": "python",
   "nbconvert_exporter": "python",
   "pygments_lexer": "ipython3",
   "version": "3.10.9"
  },
  "orig_nbformat": 4
 },
 "nbformat": 4,
 "nbformat_minor": 2
}
