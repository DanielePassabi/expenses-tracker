{
 "cells": [
  {
   "attachments": {},
   "cell_type": "markdown",
   "metadata": {},
   "source": [
    "# **Expenses Tracker**\n",
    "\n",
    "## **Report**\n",
    "\n",
    "We generate a report for each available year."
   ]
  },
  {
   "attachments": {},
   "cell_type": "markdown",
   "metadata": {},
   "source": [
    "### **Libraries**"
   ]
  },
  {
   "cell_type": "code",
   "execution_count": null,
   "metadata": {},
   "outputs": [],
   "source": [
    "import os\n",
    "import sys\n",
    "\n",
    "sys.path.append('..')\n",
    "from utils.report import ReportGenerator\n",
    "\n",
    "print('Libraries Imported')"
   ]
  },
  {
   "cell_type": "markdown",
   "metadata": {},
   "source": [
    "### **Setup**\n",
    "\n",
    "Setup the settings for the run below."
   ]
  },
  {
   "cell_type": "markdown",
   "metadata": {},
   "source": [
    "The available apps are the following:\n",
    "\n",
    "- **Fleur**: https://apps.apple.com/it/app/fleur-gestione-spese-e-budget/id1621020173"
   ]
  },
  {
   "cell_type": "code",
   "execution_count": null,
   "metadata": {},
   "outputs": [],
   "source": [
    "AVAILABLE_PREPROCESSING_APPS = {\n",
    "    'dummy': {\n",
    "        'app_csv_path': os.path.join('..','data','raw','dummy_data.csv'),\n",
    "        'save_path': os.path.join('..','reports','dummy'),\n",
    "        'app_custom_dict': None,\n",
    "        'category_color_dict': None\n",
    "    },\n",
    "    'fleur': {\n",
    "        'app_csv_path': os.path.join('..','data','raw','fleur_data.csv'),\n",
    "        'save_path': os.path.join('..','reports','fleur'),\n",
    "        'app_custom_dict': None,\n",
    "        'category_color_dict': {\n",
    "            'Supporto Famiglia': '#7a9bcc',\n",
    "            'Stipendio': '#8acc7a',\n",
    "            'Risparmi': '#ccbb7a',\n",
    "            'Investimenti': '#9b7acc',\n",
    "        }\n",
    "    },\n",
    "    '1money': {\n",
    "        'app_csv_path': os.path.join('..','data','raw','1money.html'),\n",
    "        'save_path': os.path.join('..','reports','1money'),\n",
    "        'app_custom_dict': None,\n",
    "        'category_color_dict': None\n",
    "    },\n",
    "    'inbank': {\n",
    "        'app_csv_path': os.path.join('..','data','raw','inbank.csv'),\n",
    "        'save_path': os.path.join('..','reports','inbank'),\n",
    "        'app_custom_dict': None,\n",
    "        'category_color_dict': None\n",
    "    },\n",
    "    'custom': {\n",
    "        'app_csv_path': os.path.join('..','data','raw','fleur_data.csv'),\n",
    "        'save_path': os.path.join('..','reports','custom'),\n",
    "        'app_custom_dict': {'delete_rows': {'start': 0, 'end': -1}, 'columns_to_drop': ['E']},\n",
    "        'category_color_dict': None\n",
    "    }\n",
    "}"
   ]
  },
  {
   "cell_type": "markdown",
   "metadata": {},
   "source": [
    "Just set the app value and you're ready to go!"
   ]
  },
  {
   "cell_type": "code",
   "execution_count": null,
   "metadata": {},
   "outputs": [],
   "source": [
    "app = '1money'\n",
    "\n",
    "csv_path = AVAILABLE_PREPROCESSING_APPS[app]['app_csv_path']\n",
    "save_path = AVAILABLE_PREPROCESSING_APPS[app]['save_path']\n",
    "app_custom_dict = AVAILABLE_PREPROCESSING_APPS[app]['app_custom_dict']\n",
    "category_color_dict = AVAILABLE_PREPROCESSING_APPS[app]['category_color_dict']"
   ]
  },
  {
   "cell_type": "markdown",
   "metadata": {},
   "source": [
    "### **ReportGenerator**\n",
    "\n",
    "Setup a report generator."
   ]
  },
  {
   "cell_type": "code",
   "execution_count": null,
   "metadata": {},
   "outputs": [],
   "source": [
    "REPORT_GENERATOR = ReportGenerator(\n",
    "    csv_path=csv_path,\n",
    "    save_path=save_path,\n",
    "    app=app,\n",
    "    app_custom_dict=app_custom_dict,\n",
    "    category_color_dict=category_color_dict\n",
    "    )"
   ]
  },
  {
   "attachments": {},
   "cell_type": "markdown",
   "metadata": {},
   "source": [
    "The generator contains all the dataset provided in `dataset_path`."
   ]
  },
  {
   "cell_type": "code",
   "execution_count": null,
   "metadata": {},
   "outputs": [],
   "source": [
    "REPORT_GENERATOR.datasets['2023'].head(3)"
   ]
  },
  {
   "cell_type": "markdown",
   "metadata": {},
   "source": [
    "Now we just have to generate the reports."
   ]
  },
  {
   "cell_type": "code",
   "execution_count": null,
   "metadata": {},
   "outputs": [],
   "source": [
    "REPORT_GENERATOR.generate_reports(\n",
    "    show_plots=False\n",
    "    )"
   ]
  },
  {
   "attachments": {},
   "cell_type": "markdown",
   "metadata": {},
   "source": [
    "---\n",
    "\n",
    "### **DEBUG**\n",
    "\n",
    "Please debug below."
   ]
  },
  {
   "cell_type": "code",
   "execution_count": null,
   "metadata": {},
   "outputs": [],
   "source": [
    "# import colorsys\n",
    "# import matplotlib.colors as colors\n",
    "\n",
    "# # Function to generate distinct colors\n",
    "# def generate_colors(n):\n",
    "#     # Generate HSV tuples with evenly spread hues\n",
    "#     hsv_tuples = [(x/n, 0.7, 1.0) for x in range(n)]\n",
    "    \n",
    "#     # Convert HSV to RGB and then to Hex\n",
    "#     hex_colors = [colors.rgb2hex(colorsys.hsv_to_rgb(*x)) for x in hsv_tuples]\n",
    "    \n",
    "#     return hex_colors\n",
    "\n",
    "# # Generate 30 distinct colors\n",
    "# distinct_colors = generate_colors(30)\n",
    "# distinct_colors"
   ]
  }
 ],
 "metadata": {
  "kernelspec": {
   "display_name": "HPA_PY10",
   "language": "python",
   "name": "python3"
  },
  "language_info": {
   "codemirror_mode": {
    "name": "ipython",
    "version": 3
   },
   "file_extension": ".py",
   "mimetype": "text/x-python",
   "name": "python",
   "nbconvert_exporter": "python",
   "pygments_lexer": "ipython3",
   "version": "3.10.9"
  },
  "orig_nbformat": 4
 },
 "nbformat": 4,
 "nbformat_minor": 2
}
