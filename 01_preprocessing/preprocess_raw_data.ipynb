{
 "cells": [
  {
   "attachments": {},
   "cell_type": "markdown",
   "metadata": {},
   "source": [
    "# **Expenses Tracker**\n",
    "\n",
    "## **Preprocessing**\n",
    "\n",
    "We start from the row data obtained using the app and we create a dataset for each year."
   ]
  },
  {
   "attachments": {},
   "cell_type": "markdown",
   "metadata": {},
   "source": [
    "### **Libraries**"
   ]
  },
  {
   "cell_type": "code",
   "execution_count": null,
   "metadata": {},
   "outputs": [],
   "source": [
    "import os\n",
    "import pandas as pd\n",
    "\n",
    "print('Libraries Imported')"
   ]
  },
  {
   "attachments": {},
   "cell_type": "markdown",
   "metadata": {},
   "source": [
    "### **Dataset**\n",
    "\n",
    "We import the original dataset."
   ]
  },
  {
   "cell_type": "code",
   "execution_count": null,
   "metadata": {},
   "outputs": [],
   "source": [
    "# import df\n",
    "raw_df_path = os.path.join('..','data','raw','app_data.csv')\n",
    "raw_df = pd.read_csv(raw_df_path)\n",
    "\n",
    "# delete last row (misleading)\n",
    "raw_df = raw_df[:-1]\n",
    "\n",
    "raw_df"
   ]
  },
  {
   "attachments": {},
   "cell_type": "markdown",
   "metadata": {},
   "source": [
    "First, we add the information about year and month."
   ]
  },
  {
   "cell_type": "code",
   "execution_count": null,
   "metadata": {},
   "outputs": [],
   "source": [
    "raw_df[\"Date\"] = pd.to_datetime(raw_df[\"Date\"])\n",
    "raw_df[\"Year\"] = raw_df[\"Date\"].dt.year\n",
    "raw_df[\"Month\"] = raw_df[\"Date\"].dt.to_period('M')\n",
    "raw_df.head(3)"
   ]
  },
  {
   "attachments": {},
   "cell_type": "markdown",
   "metadata": {},
   "source": [
    "Finally, store a dataset for each available year. "
   ]
  },
  {
   "cell_type": "code",
   "execution_count": null,
   "metadata": {},
   "outputs": [],
   "source": [
    "available_years = raw_df['Year'].unique().tolist()\n",
    "print(f'There is data available for: {available_years}')\n",
    "\n",
    "for year in available_years:\n",
    "    temp_df = raw_df.loc[raw_df['Year'] == year]\n",
    "    temp_df_path = os.path.join('..', 'data', 'preprocessed', f'app_data_{year}.csv')\n",
    "    temp_df.to_csv(temp_df_path, index=False)\n",
    "    print(f' - Dataset for Year {year} saved')"
   ]
  }
 ],
 "metadata": {
  "kernelspec": {
   "display_name": "HPA_PY10",
   "language": "python",
   "name": "python3"
  },
  "language_info": {
   "codemirror_mode": {
    "name": "ipython",
    "version": 3
   },
   "file_extension": ".py",
   "mimetype": "text/x-python",
   "name": "python",
   "nbconvert_exporter": "python",
   "pygments_lexer": "ipython3",
   "version": "3.10.9"
  },
  "orig_nbformat": 4
 },
 "nbformat": 4,
 "nbformat_minor": 2
}
