{
 "cells": [
  {
   "attachments": {},
   "cell_type": "markdown",
   "metadata": {},
   "source": [
    "# **Expenses Tracker**\n",
    "\n",
    "## **Report**\n",
    "\n",
    "We generate a report for each available year."
   ]
  },
  {
   "attachments": {},
   "cell_type": "markdown",
   "metadata": {},
   "source": [
    "### **Libraries**"
   ]
  },
  {
   "cell_type": "code",
   "execution_count": null,
   "metadata": {},
   "outputs": [],
   "source": [
    "import os\n",
    "import sys\n",
    "import json\n",
    "\n",
    "sys.path.append('..')\n",
    "from utils.report import ReportGenerator\n",
    "\n",
    "print('Libraries Imported')"
   ]
  },
  {
   "cell_type": "markdown",
   "metadata": {},
   "source": [
    "### **Setup**\n",
    "\n",
    "Just set your app and you're ready to go!"
   ]
  },
  {
   "cell_type": "code",
   "execution_count": null,
   "metadata": {},
   "outputs": [],
   "source": [
    "APPS = {\n",
    "    0: 'dummy',\n",
    "    1: 'fleur',\n",
    "    2: '1money',\n",
    "    3: 'inbank',\n",
    "    9: 'custom'\n",
    "}\n",
    "\n",
    "app = APPS[1]\n",
    "settings_folder = 'fleur'"
   ]
  },
  {
   "cell_type": "code",
   "execution_count": null,
   "metadata": {},
   "outputs": [],
   "source": [
    "with open(os.path.join(\"settings\", settings_folder, f\"{app}.json\"), \"r\") as file:\n",
    "    settings = json.load(file)\n",
    "\n",
    "csv_path = settings['app_csv_path']\n",
    "save_path = settings['save_path']\n",
    "app_custom_dict = settings['app_custom_dict']\n",
    "category_color_dict = settings['category_color_dict']\n",
    "\n",
    "print(f\"> SETTINGS for app: {app}\")\n",
    "print(f\"             csv_path: {csv_path}\")\n",
    "print(f\"            save_path: {save_path}\")\n",
    "print(f\"      app_custom_dict: {app_custom_dict}\")\n",
    "print(f\"  category_color_dict: {category_color_dict}\")"
   ]
  },
  {
   "cell_type": "markdown",
   "metadata": {},
   "source": [
    "### **ReportGenerator**\n",
    "\n",
    "Setup a report generator."
   ]
  },
  {
   "cell_type": "code",
   "execution_count": null,
   "metadata": {},
   "outputs": [],
   "source": [
    "REPORT_GENERATOR = ReportGenerator(\n",
    "    csv_path=csv_path,\n",
    "    save_path=save_path,\n",
    "    app=app,\n",
    "    app_custom_dict=app_custom_dict,\n",
    "    category_color_dict=category_color_dict\n",
    "    )"
   ]
  },
  {
   "attachments": {},
   "cell_type": "markdown",
   "metadata": {},
   "source": [
    "The generator contains all the dataset provided in `dataset_path`."
   ]
  },
  {
   "cell_type": "code",
   "execution_count": null,
   "metadata": {},
   "outputs": [],
   "source": [
    "display(REPORT_GENERATOR.datasets_expenses['2023'].head(3))\n",
    "display(REPORT_GENERATOR.datasets_transfers['2023'].head(3))"
   ]
  },
  {
   "cell_type": "markdown",
   "metadata": {},
   "source": [
    "Now we just have to generate the reports."
   ]
  },
  {
   "cell_type": "code",
   "execution_count": null,
   "metadata": {},
   "outputs": [],
   "source": [
    "REPORT_GENERATOR.generate_reports(\n",
    "    show_plots=False\n",
    "    )"
   ]
  },
  {
   "attachments": {},
   "cell_type": "markdown",
   "metadata": {},
   "source": [
    "---\n",
    "\n",
    "### **DEBUG**\n",
    "\n",
    "Please debug below."
   ]
  }
 ],
 "metadata": {
  "kernelspec": {
   "display_name": "HPA_PY10",
   "language": "python",
   "name": "python3"
  },
  "language_info": {
   "codemirror_mode": {
    "name": "ipython",
    "version": 3
   },
   "file_extension": ".py",
   "mimetype": "text/x-python",
   "name": "python",
   "nbconvert_exporter": "python",
   "pygments_lexer": "ipython3",
   "version": "3.10.11"
  },
  "orig_nbformat": 4
 },
 "nbformat": 4,
 "nbformat_minor": 2
}
